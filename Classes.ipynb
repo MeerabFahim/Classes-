{
 "cells": [
  {
   "cell_type": "code",
   "execution_count": 5,
   "id": "2729d5a6-469f-4948-820a-dd491a55240b",
   "metadata": {},
   "outputs": [
    {
     "name": "stdout",
     "output_type": "stream",
     "text": [
      "Person 1 Details:\n",
      "Name: Meerab\n",
      "Age: 18\n",
      "City: lahore\n",
      "\n",
      "Person 2 Details:\n",
      "Name: Tayyaba\n",
      "Age: 20\n",
      "City: lahore\n"
     ]
    }
   ],
   "source": [
    "#Question 1\n",
    "# Defining the Person class\n",
    "class Person:\n",
    "    def __init__(self, name, age, city):\n",
    "        # Constructor to initialize attributes\n",
    "        self.name = name\n",
    "        self.age = age\n",
    "        self.city = city\n",
    "\n",
    "    # Method to display person details\n",
    "    def display_info(self):\n",
    "        print(f\"Name: {self.name}\")\n",
    "        print(f\"Age: {self.age}\")\n",
    "        print(f\"City: {self.city}\")\n",
    "\n",
    "# Creating instances of the Person class\n",
    "person1 = Person(\"Meerab\", 18, \"lahore\")\n",
    "person2 = Person(\"Tayyaba\", 20, \"lahore\")\n",
    "\n",
    "# Displaying information about person1\n",
    "print(\"Person 1 Details:\")\n",
    "person1.display_info()\n",
    "\n",
    "# Displaying information about person2\n",
    "print(\"\\nPerson 2 Details:\")\n",
    "person2.display_info()\n"
   ]
  },
  {
   "cell_type": "code",
   "execution_count": 7,
   "id": "b782526e-91bf-4e2c-a4d8-faee27dfe422",
   "metadata": {},
   "outputs": [
    {
     "name": "stdout",
     "output_type": "stream",
     "text": [
      "Car 1 Details:\n",
      "Car Make: Toyota\n",
      "Car Model: Corolla\n",
      "Car Year: 2020\n",
      "\n",
      "Car 2 Details:\n",
      "Car Make: Tesla\n",
      "Car Model: Model S\n",
      "Car Year: 2023\n"
     ]
    }
   ],
   "source": [
    "#Question 2\n",
    "# Defining the Car class\n",
    "class Car:\n",
    "    def __init__(self, make, model, year):\n",
    "        # Constructor to initialize attributes\n",
    "        self.make = make\n",
    "        self.model = model\n",
    "        self.year = year\n",
    "\n",
    "    # Method to display car details\n",
    "    def display_info(self):\n",
    "        print(f\"Car Make: {self.make}\")\n",
    "        print(f\"Car Model: {self.model}\")\n",
    "        print(f\"Car Year: {self.year}\")\n",
    "\n",
    "# Creating instances of the Car class\n",
    "car1 = Car(\"Toyota\", \"Corolla\", 2020)\n",
    "car2 = Car(\"Tesla\", \"Model S\", 2023)\n",
    "\n",
    "# Displaying information about car1\n",
    "print(\"Car 1 Details:\")\n",
    "car1.display_info()\n",
    "\n",
    "# Displaying information about car2\n",
    "print(\"\\nCar 2 Details:\")\n",
    "car2.display_info()\n"
   ]
  },
  {
   "cell_type": "code",
   "execution_count": 9,
   "id": "32630d98-46c1-4bd1-8487-0841559efb09",
   "metadata": {},
   "outputs": [
    {
     "name": "stdout",
     "output_type": "stream",
     "text": [
      "Circle Details:\n",
      "Radius: 5\n",
      "Area: 78.54\n",
      "Circumference: 31.42\n"
     ]
    }
   ],
   "source": [
    "#Question 3\n",
    "import math  # Importing math module for π (pi)\n",
    "\n",
    "# Defining the Circle class\n",
    "class Circle:\n",
    "    def __init__(self, radius):\n",
    "        # Constructor to initialize the radius\n",
    "        self.radius = radius\n",
    "\n",
    "    # Method to calculate the area of the circle\n",
    "    def calculate_area(self):\n",
    "        return math.pi * self.radius ** 2\n",
    "\n",
    "    # Method to calculate the circumference of the circle\n",
    "    def calculate_circumference(self):\n",
    "        return 2 * math.pi * self.radius\n",
    "\n",
    "# Creating an instance of the Circle class\n",
    "circle1 = Circle(5)  # Circle with radius 5\n",
    "\n",
    "# Calculating and displaying the area and circumference\n",
    "print(\"Circle Details:\")\n",
    "print(f\"Radius: {circle1.radius}\")\n",
    "print(f\"Area: {circle1.calculate_area():.2f}\")  # Formatting to 2 decimal places\n",
    "print(f\"Circumference: {circle1.calculate_circumference():.2f}\")\n"
   ]
  },
  {
   "cell_type": "code",
   "execution_count": 11,
   "id": "a2a9e07e-fa9d-4374-9fb8-5d9622d8a816",
   "metadata": {},
   "outputs": [
    {
     "name": "stdout",
     "output_type": "stream",
     "text": [
      "Rectangle Details:\n",
      "Length: 10\n",
      "Width: 5\n",
      "Area: 50\n",
      "Perimeter: 30\n"
     ]
    }
   ],
   "source": [
    "#Question 4\n",
    "# Defining the Rectangle class\n",
    "class Rectangle:\n",
    "    def __init__(self, length, width):\n",
    "        # Constructor to initialize length and width\n",
    "        self.length = length\n",
    "        self.width = width\n",
    "\n",
    "    # Method to calculate the area of the rectangle\n",
    "    def calculate_area(self):\n",
    "        return self.length * self.width\n",
    "\n",
    "    # Method to calculate the perimeter of the rectangle\n",
    "    def calculate_perimeter(self):\n",
    "        return 2 * (self.length + self.width)\n",
    "\n",
    "# Creating an instance of the Rectangle class\n",
    "rectangle1 = Rectangle(10, 5)  # Rectangle with length 10 and width 5\n",
    "\n",
    "# Calculating and displaying the area and perimeter\n",
    "print(\"Rectangle Details:\")\n",
    "print(f\"Length: {rectangle1.length}\")\n",
    "print(f\"Width: {rectangle1.width}\")\n",
    "print(f\"Area: {rectangle1.calculate_area()}\")\n",
    "print(f\"Perimeter: {rectangle1.calculate_perimeter()}\")\n"
   ]
  },
  {
   "cell_type": "code",
   "execution_count": 13,
   "id": "72371c98-c402-4513-a69d-f67aa33b476b",
   "metadata": {},
   "outputs": [
    {
     "name": "stdout",
     "output_type": "stream",
     "text": [
      "Student Details:\n",
      "Name: Alice\n",
      "Roll Number: 101\n",
      "Marks: [85, 90, 78, 92, 88]\n",
      "Average Marks: 86.60\n"
     ]
    }
   ],
   "source": [
    "#Question 5\n",
    "# Defining the Student class\n",
    "class Student:\n",
    "    def __init__(self, name, roll_number, marks):\n",
    "        # Constructor to initialize name, roll number, and marks\n",
    "        self.name = name\n",
    "        self.roll_number = roll_number\n",
    "        self.marks = marks  # List of marks for different subjects\n",
    "\n",
    "    # Method to calculate the average marks\n",
    "    def calculate_average(self):\n",
    "        if len(self.marks) == 0:\n",
    "            return 0  # To avoid division by zero if no marks are provided\n",
    "        return sum(self.marks) / len(self.marks)\n",
    "\n",
    "    # Method to display student details\n",
    "    def display_info(self):\n",
    "        print(f\"Name: {self.name}\")\n",
    "        print(f\"Roll Number: {self.roll_number}\")\n",
    "        print(f\"Marks: {self.marks}\")\n",
    "        print(f\"Average Marks: {self.calculate_average():.2f}\")  # Formatting to 2 decimal places\n",
    "\n",
    "# Creating an instance of the Student class\n",
    "student1 = Student(\"Alice\", 101, [85, 90, 78, 92, 88])  # Marks for 5 subjects\n",
    "\n",
    "# Displaying student details and average marks\n",
    "print(\"Student Details:\")\n",
    "student1.display_info()"
   ]
  },
  {
   "cell_type": "code",
   "execution_count": 15,
   "id": "acde40d5-de96-47a9-a844-ee0bcf85851c",
   "metadata": {},
   "outputs": [
    {
     "name": "stdout",
     "output_type": "stream",
     "text": [
      "Book 1 Details:\n",
      "Title: 1984\n",
      "Author: George Orwell\n",
      "Publication Year: 1949\n",
      "\n",
      "Book 2 Details:\n",
      "Title: To Kill a Mockingbird\n",
      "Author: Harper Lee\n",
      "Publication Year: 1960\n"
     ]
    }
   ],
   "source": [
    "#Qestion 6\n",
    "# Defining the Book class\n",
    "class Book:\n",
    "    def __init__(self, title, author, publication_year):\n",
    "        # Constructor to initialize the title, author, and publication year\n",
    "        self.title = title\n",
    "        self.author = author\n",
    "        self.publication_year = publication_year\n",
    "\n",
    "    # Method to display book details\n",
    "    def display_info(self):\n",
    "        print(f\"Title: {self.title}\")\n",
    "        print(f\"Author: {self.author}\")\n",
    "        print(f\"Publication Year: {self.publication_year}\")\n",
    "\n",
    "# Creating instances of the Book class\n",
    "book1 = Book(\"1984\", \"George Orwell\", 1949)\n",
    "book2 = Book(\"To Kill a Mockingbird\", \"Harper Lee\", 1960)\n",
    "\n",
    "# Displaying details of book1\n",
    "print(\"Book 1 Details:\")\n",
    "book1.display_info()\n",
    "\n",
    "# Displaying details of book2\n",
    "print(\"\\nBook 2 Details:\")\n",
    "book2.display_info()\n",
    "\n"
   ]
  },
  {
   "cell_type": "code",
   "execution_count": 19,
   "id": "2c7fa036-5824-4b2f-96b7-9fa7f456205e",
   "metadata": {},
   "outputs": [
    {
     "name": "stdout",
     "output_type": "stream",
     "text": [
      "Employee 1 Details:\n",
      "Name: osama\n",
      "Salary: 60000\n",
      "Designation: Computer Engineer\n",
      "\n",
      "Employee 2 Details:\n",
      "Name: rabeea\n",
      "Salary: 70000\n",
      "Designation: Project Manager\n"
     ]
    }
   ],
   "source": [
    "#Question 7\n",
    "# Defining the Employee class\n",
    "class Employee:\n",
    "    def __init__(self, name, salary, designation):\n",
    "        # Constructor to initialize the name, salary, and designation\n",
    "        self.name = name\n",
    "        self.salary = salary\n",
    "        self.designation = designation\n",
    "\n",
    "    # Method to display employee details\n",
    "    def display_info(self):\n",
    "        print(f\"Name: {self.name}\")\n",
    "        print(f\"Salary: {self.salary}\")\n",
    "        print(f\"Designation: {self.designation}\")\n",
    "\n",
    "# Creating instances of the Employee class\n",
    "employee1 = Employee(\"osama\", 60000, \"Computer Engineer\")\n",
    "employee2 = Employee(\"rabeea\", 70000, \"Project Manager\")\n",
    "\n",
    "# Displaying details of employee1\n",
    "print(\"Employee 1 Details:\")\n",
    "employee1.display_info()\n",
    "\n",
    "# Displaying details of employee2\n",
    "print(\"\\nEmployee 2 Details:\")\n",
    "employee2.display_info()\n"
   ]
  },
  {
   "cell_type": "code",
   "execution_count": 23,
   "id": "25b0a078-805b-41cb-b543-be688ab1b0e3",
   "metadata": {},
   "outputs": [
    {
     "name": "stdout",
     "output_type": "stream",
     "text": [
      "Initial Account Details:\n",
      "Account Holder: Fahim\n",
      "Account Number: 12345678\n",
      "Balance: $500\n",
      "\n",
      "Performing Transactions:\n",
      "Deposited: $200\n",
      "Withdrawn: $100\n",
      "Insufficient balance.\n",
      "\n",
      "Final Account Details:\n",
      "Account Holder: Fahim\n",
      "Account Number: 12345678\n",
      "Balance: $600\n"
     ]
    }
   ],
   "source": [
    "#Question 8\n",
    "# Defining the Bank class\n",
    "class Bank:\n",
    "    def __init__(self, name, account_number, balance=0):\n",
    "        # Constructor to initialize the name, account number, and balance\n",
    "        self.name = name\n",
    "        self.account_number = account_number\n",
    "        self.balance = balance\n",
    "\n",
    "    # Method to deposit money\n",
    "    def deposit(self, amount):\n",
    "        if amount > 0:\n",
    "            self.balance += amount\n",
    "            print(f\"Deposited: ${amount}\")\n",
    "        else:\n",
    "            print(\"Invalid deposit amount.\")\n",
    "\n",
    "    # Method to withdraw money\n",
    "    def withdraw(self, amount):\n",
    "        if amount > self.balance:\n",
    "            print(\"Insufficient balance.\")\n",
    "        elif amount > 0:\n",
    "            self.balance -= amount\n",
    "            print(f\"Withdrawn: ${amount}\")\n",
    "        else:\n",
    "            print(\"Invalid withdrawal amount.\")\n",
    "\n",
    "    # Method to display account details\n",
    "    def display_info(self):\n",
    "        print(f\"Account Holder: {self.name}\")\n",
    "        print(f\"Account Number: {self.account_number}\")\n",
    "        print(f\"Balance: ${self.balance}\")\n",
    "\n",
    "# Creating an instance of the Bank class\n",
    "account1 = Bank(\"Fahim\", \"12345678\", 500)\n",
    "\n",
    "# Displaying initial details\n",
    "print(\"Initial Account Details:\")\n",
    "account1.display_info()\n",
    "\n",
    "# Performing deposit and withdrawal operations\n",
    "print(\"\\nPerforming Transactions:\")\n",
    "account1.deposit(200)  # Deposit $200\n",
    "account1.withdraw(100)  # Withdraw $100\n",
    "account1.withdraw(700)  # Attempt to withdraw more than the balance\n",
    "\n",
    "# Displaying final details\n",
    "print(\"\\nFinal Account Details:\")\n",
    "account1.display_info()\n"
   ]
  },
  {
   "cell_type": "code",
   "execution_count": 25,
   "id": "aa3c4c84-fcb0-4dbb-9f15-1d7ddc8dca97",
   "metadata": {},
   "outputs": [
    {
     "name": "stdout",
     "output_type": "stream",
     "text": [
      "Circle Area: 78.54\n",
      "Rectangle Area: 50\n",
      "Triangle Area: 12.0\n"
     ]
    }
   ],
   "source": [
    "#Question 9\n",
    "import math  # For using π (pi) in Circle calculations\n",
    "\n",
    "# Base class\n",
    "class Shape:\n",
    "    def calculate_area(self):\n",
    "        raise NotImplementedError(\"Subclasses must implement this method\")\n",
    "\n",
    "# Subclass for Circle\n",
    "class Circle(Shape):\n",
    "    def __init__(self, radius):\n",
    "        self.radius = radius\n",
    "\n",
    "    def calculate_area(self):\n",
    "        return math.pi * self.radius ** 2\n",
    "\n",
    "# Subclass for Rectangle\n",
    "class Rectangle(Shape):\n",
    "    def __init__(self, length, width):\n",
    "        self.length = length\n",
    "        self.width = width\n",
    "\n",
    "    def calculate_area(self):\n",
    "        return self.length * self.width\n",
    "\n",
    "# Subclass for Triangle\n",
    "class Triangle(Shape):\n",
    "    def __init__(self, base, height):\n",
    "        self.base = base\n",
    "        self.height = height\n",
    "\n",
    "    def calculate_area(self):\n",
    "        return 0.5 * self.base * self.height\n",
    "\n",
    "# Creating instances and calculating areas\n",
    "circle = Circle(5)  # Circle with radius 5\n",
    "rectangle = Rectangle(10, 5)  # Rectangle with length 10 and width 5\n",
    "triangle = Triangle(6, 4)  # Triangle with base 6 and height 4\n",
    "\n",
    "# Displaying the areas\n",
    "print(f\"Circle Area: {circle.calculate_area():.2f}\")\n",
    "print(f\"Rectangle Area: {rectangle.calculate_area()}\")\n",
    "print(f\"Triangle Area: {triangle.calculate_area()}\")\n"
   ]
  },
  {
   "cell_type": "code",
   "execution_count": 27,
   "id": "dde009dc-d8e6-478e-b0d2-067283c3529c",
   "metadata": {},
   "outputs": [
    {
     "name": "stdout",
     "output_type": "stream",
     "text": [
      "The Dog says: Bark\n",
      "The Cat says: Meow\n",
      "The Cow says: Moo\n"
     ]
    }
   ],
   "source": [
    "#Question 10\n",
    "# Base class\n",
    "class Animal:\n",
    "    def __init__(self, name, sound):\n",
    "        self.name = name\n",
    "        self.sound = sound\n",
    "\n",
    "    def make_sound(self):\n",
    "        print(f\"The {self.name} says: {self.sound}\")\n",
    "\n",
    "# Subclass for Dog\n",
    "class Dog(Animal):\n",
    "    def __init__(self, name):\n",
    "        # A dog always barks, so the sound is fixed\n",
    "        super().__init__(name, \"Bark\")\n",
    "\n",
    "# Subclass for Cat\n",
    "class Cat(Animal):\n",
    "    def __init__(self, name):\n",
    "        # A cat always meows, so the sound is fixed\n",
    "        super().__init__(name, \"Meow\")\n",
    "\n",
    "# Subclass for Cow\n",
    "class Cow(Animal):\n",
    "    def __init__(self, name):\n",
    "        # A cow always moos, so the sound is fixed\n",
    "        super().__init__(name, \"Moo\")\n",
    "\n",
    "# Creating instances of the subclasses\n",
    "dog = Dog(\"Dog\")\n",
    "cat = Cat(\"Cat\")\n",
    "cow = Cow(\"Cow\")\n",
    "\n",
    "# Making the animals speak\n",
    "dog.make_sound()\n",
    "cat.make_sound()\n",
    "cow.make_sound()\n"
   ]
  },
  {
   "cell_type": "code",
   "execution_count": null,
   "id": "f11834f5-53e3-473b-8699-e1521ad320d2",
   "metadata": {},
   "outputs": [],
   "source": []
  }
 ],
 "metadata": {
  "kernelspec": {
   "display_name": "Python 3 (ipykernel)",
   "language": "python",
   "name": "python3"
  },
  "language_info": {
   "codemirror_mode": {
    "name": "ipython",
    "version": 3
   },
   "file_extension": ".py",
   "mimetype": "text/x-python",
   "name": "python",
   "nbconvert_exporter": "python",
   "pygments_lexer": "ipython3",
   "version": "3.12.7"
  }
 },
 "nbformat": 4,
 "nbformat_minor": 5
}
